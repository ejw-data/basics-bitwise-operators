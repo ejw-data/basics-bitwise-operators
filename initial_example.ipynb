{
 "cells": [
  {
   "cell_type": "markdown",
   "id": "25b176d1",
   "metadata": {},
   "source": [
    "# Verifitying bitwise versus logical 'ands'\n",
    "\n",
    "### I am often asked about this when teaching the bootcamp so here are some examples that may help"
   ]
  },
  {
   "cell_type": "code",
   "execution_count": 7,
   "id": "155ff94f",
   "metadata": {},
   "outputs": [],
   "source": [
    "import pandas as pd\n",
    "import numpy as np"
   ]
  },
  {
   "cell_type": "code",
   "execution_count": 2,
   "id": "c9294edb",
   "metadata": {},
   "outputs": [],
   "source": [
    "def bin(n) :\n",
    "     \n",
    "    i = 1 << 31\n",
    "    while(i > 0) :\n",
    "     \n",
    "        if((n & i) != 0) :\n",
    "         \n",
    "            print(\"1\", end = \"\")\n",
    "         \n",
    "        else :\n",
    "            print(\"0\", end = \"\")\n",
    "             \n",
    "        i = i // 2"
   ]
  },
  {
   "cell_type": "code",
   "execution_count": 3,
   "id": "84216eb3",
   "metadata": {},
   "outputs": [],
   "source": [
    "x1 = pd.Series([1,3,6], index=[\"a\",\"b\",\"c\"])\n",
    "x2 = pd.Series([2,4,6], index=[\"a\",\"b\",\"c\"])"
   ]
  },
  {
   "cell_type": "code",
   "execution_count": 4,
   "id": "457b574e",
   "metadata": {},
   "outputs": [
    {
     "data": {
      "text/plain": [
       "a    False\n",
       "b    False\n",
       "c     True\n",
       "dtype: bool"
      ]
     },
     "execution_count": 4,
     "metadata": {},
     "output_type": "execute_result"
    }
   ],
   "source": [
    "(x1 > 5)"
   ]
  },
  {
   "cell_type": "code",
   "execution_count": 5,
   "id": "ff7ba371",
   "metadata": {},
   "outputs": [
    {
     "data": {
      "text/plain": [
       "a    False\n",
       "b    False\n",
       "c     True\n",
       "dtype: bool"
      ]
     },
     "execution_count": 5,
     "metadata": {},
     "output_type": "execute_result"
    }
   ],
   "source": [
    "(x2 > 5)"
   ]
  },
  {
   "cell_type": "code",
   "execution_count": 8,
   "id": "14b0164b",
   "metadata": {},
   "outputs": [
    {
     "data": {
      "text/plain": [
       "a    False\n",
       "b    False\n",
       "c     True\n",
       "dtype: bool"
      ]
     },
     "execution_count": 8,
     "metadata": {},
     "output_type": "execute_result"
    }
   ],
   "source": [
    "np.logical_and( (x1 > 5), (x2 > 5) )"
   ]
  },
  {
   "cell_type": "code",
   "execution_count": 9,
   "id": "f7ed04ac",
   "metadata": {
    "tags": []
   },
   "outputs": [
    {
     "data": {
      "text/plain": [
       "a    False\n",
       "b    False\n",
       "c     True\n",
       "dtype: bool"
      ]
     },
     "execution_count": 9,
     "metadata": {},
     "output_type": "execute_result"
    }
   ],
   "source": [
    "(x1 > 5) & (x2 > 5) "
   ]
  },
  {
   "cell_type": "code",
   "execution_count": 10,
   "id": "2a919e63",
   "metadata": {},
   "outputs": [
    {
     "data": {
      "text/plain": [
       "2"
      ]
     },
     "execution_count": 10,
     "metadata": {},
     "output_type": "execute_result"
    }
   ],
   "source": [
    "# 2 & 5\n",
    "2 & 10"
   ]
  },
  {
   "cell_type": "code",
   "execution_count": 11,
   "id": "d0564c6a",
   "metadata": {},
   "outputs": [
    {
     "data": {
      "text/plain": [
       "10"
      ]
     },
     "execution_count": 11,
     "metadata": {},
     "output_type": "execute_result"
    }
   ],
   "source": [
    "# 2 and 5\n",
    "2 and 10"
   ]
  },
  {
   "cell_type": "code",
   "execution_count": 12,
   "id": "da84d5b7",
   "metadata": {},
   "outputs": [
    {
     "name": "stdout",
     "output_type": "stream",
     "text": [
      "00000000000000000000000000000000"
     ]
    }
   ],
   "source": [
    "bin(0)"
   ]
  },
  {
   "cell_type": "code",
   "execution_count": 13,
   "id": "9e22db3e",
   "metadata": {},
   "outputs": [
    {
     "name": "stdout",
     "output_type": "stream",
     "text": [
      "00000000000000000000000000000001"
     ]
    }
   ],
   "source": [
    "bin(1)"
   ]
  },
  {
   "cell_type": "code",
   "execution_count": 14,
   "id": "dab1b8e2",
   "metadata": {},
   "outputs": [
    {
     "data": {
      "text/plain": [
       "True"
      ]
     },
     "execution_count": 14,
     "metadata": {},
     "output_type": "execute_result"
    }
   ],
   "source": [
    "True and True"
   ]
  },
  {
   "cell_type": "code",
   "execution_count": 15,
   "id": "a76db580",
   "metadata": {},
   "outputs": [
    {
     "data": {
      "text/plain": [
       "0"
      ]
     },
     "execution_count": 15,
     "metadata": {},
     "output_type": "execute_result"
    }
   ],
   "source": [
    "0 and 0"
   ]
  },
  {
   "cell_type": "code",
   "execution_count": null,
   "id": "ea08fa69",
   "metadata": {},
   "outputs": [],
   "source": []
  },
  {
   "cell_type": "code",
   "execution_count": null,
   "id": "c5412684",
   "metadata": {},
   "outputs": [],
   "source": []
  },
  {
   "cell_type": "code",
   "execution_count": null,
   "id": "06045607",
   "metadata": {},
   "outputs": [],
   "source": []
  },
  {
   "cell_type": "code",
   "execution_count": null,
   "id": "e0191124",
   "metadata": {},
   "outputs": [],
   "source": []
  }
 ],
 "metadata": {
  "kernelspec": {
   "display_name": "Python [conda env:PythonData38]",
   "language": "python",
   "name": "conda-env-PythonData38-py"
  },
  "language_info": {
   "codemirror_mode": {
    "name": "ipython",
    "version": 3
   },
   "file_extension": ".py",
   "mimetype": "text/x-python",
   "name": "python",
   "nbconvert_exporter": "python",
   "pygments_lexer": "ipython3",
   "version": "3.8.8"
  }
 },
 "nbformat": 4,
 "nbformat_minor": 5
}
